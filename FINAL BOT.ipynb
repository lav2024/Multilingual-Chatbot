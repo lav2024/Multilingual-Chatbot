{
 "cells": [
  {
   "cell_type": "code",
   "execution_count": 1,
   "id": "94a7fb7c-4ed7-4e7b-bfdf-47b438e08dec",
   "metadata": {},
   "outputs": [],
   "source": [
    "import pandas as pd\n",
    "import numpy as np"
   ]
  },
  {
   "cell_type": "code",
   "execution_count": 3,
   "id": "ff924488-3547-4292-8350-de4fec471a22",
   "metadata": {},
   "outputs": [
    {
     "data": {
      "text/html": [
       "<div>\n",
       "<style scoped>\n",
       "    .dataframe tbody tr th:only-of-type {\n",
       "        vertical-align: middle;\n",
       "    }\n",
       "\n",
       "    .dataframe tbody tr th {\n",
       "        vertical-align: top;\n",
       "    }\n",
       "\n",
       "    .dataframe thead th {\n",
       "        text-align: right;\n",
       "    }\n",
       "</style>\n",
       "<table border=\"1\" class=\"dataframe\">\n",
       "  <thead>\n",
       "    <tr style=\"text-align: right;\">\n",
       "      <th></th>\n",
       "      <th>User Input</th>\n",
       "      <th>Bot Response</th>\n",
       "      <th>Language</th>\n",
       "      <th>Intents</th>\n",
       "    </tr>\n",
       "  </thead>\n",
       "  <tbody>\n",
       "    <tr>\n",
       "      <th>0</th>\n",
       "      <td>Hello</td>\n",
       "      <td>Hi there!</td>\n",
       "      <td>en</td>\n",
       "      <td>Greeting</td>\n",
       "    </tr>\n",
       "    <tr>\n",
       "      <th>1</th>\n",
       "      <td>Vanakkam</td>\n",
       "      <td>Vanakkam! Ungalukku epdi help panradhu?</td>\n",
       "      <td>ta</td>\n",
       "      <td>Greeting</td>\n",
       "    </tr>\n",
       "    <tr>\n",
       "      <th>2</th>\n",
       "      <td>Namaskaram</td>\n",
       "      <td>Namaskaram! Meeeku ela sahayam cheyyali?</td>\n",
       "      <td>te</td>\n",
       "      <td>Greeting</td>\n",
       "    </tr>\n",
       "    <tr>\n",
       "      <th>3</th>\n",
       "      <td>How are you?</td>\n",
       "      <td>Im doing well!</td>\n",
       "      <td>en</td>\n",
       "      <td>Well-being</td>\n",
       "    </tr>\n",
       "    <tr>\n",
       "      <th>4</th>\n",
       "      <td>Epdi irukeenga?</td>\n",
       "      <td>Naan nalla irukken!</td>\n",
       "      <td>ta</td>\n",
       "      <td>Well-being</td>\n",
       "    </tr>\n",
       "    <tr>\n",
       "      <th>...</th>\n",
       "      <td>...</td>\n",
       "      <td>...</td>\n",
       "      <td>...</td>\n",
       "      <td>...</td>\n",
       "    </tr>\n",
       "    <tr>\n",
       "      <th>1504</th>\n",
       "      <td>pasangalukku oru advice sollunga</td>\n",
       "      <td>Aaraaychi seyyunga, kelvi kettunga, kathukunga!</td>\n",
       "      <td>ta</td>\n",
       "      <td>Motivation</td>\n",
       "    </tr>\n",
       "    <tr>\n",
       "      <th>1505</th>\n",
       "      <td>pillalaki oka advice cheppu</td>\n",
       "      <td>Aalochinchandi, prasnalu adugandi, chudandi!</td>\n",
       "      <td>te</td>\n",
       "      <td>Motivation</td>\n",
       "    </tr>\n",
       "    <tr>\n",
       "      <th>1506</th>\n",
       "      <td>how to manage time</td>\n",
       "      <td>Prioritize and set a simple schedule.</td>\n",
       "      <td>en</td>\n",
       "      <td>Tip</td>\n",
       "    </tr>\n",
       "    <tr>\n",
       "      <th>1507</th>\n",
       "      <td>neram epdi manage panna</td>\n",
       "      <td>Mukkiyamana vishayangalai first panna, schedul...</td>\n",
       "      <td>ta</td>\n",
       "      <td>Tip</td>\n",
       "    </tr>\n",
       "    <tr>\n",
       "      <th>1508</th>\n",
       "      <td>time ela manage cheyyali</td>\n",
       "      <td>Important pani ki priority ichhi schedule foll...</td>\n",
       "      <td>te</td>\n",
       "      <td>Tip</td>\n",
       "    </tr>\n",
       "  </tbody>\n",
       "</table>\n",
       "<p>1509 rows × 4 columns</p>\n",
       "</div>"
      ],
      "text/plain": [
       "                            User Input  \\\n",
       "0                                Hello   \n",
       "1                             Vanakkam   \n",
       "2                           Namaskaram   \n",
       "3                         How are you?   \n",
       "4                      Epdi irukeenga?   \n",
       "...                                ...   \n",
       "1504  pasangalukku oru advice sollunga   \n",
       "1505       pillalaki oka advice cheppu   \n",
       "1506                how to manage time   \n",
       "1507           neram epdi manage panna   \n",
       "1508          time ela manage cheyyali   \n",
       "\n",
       "                                           Bot Response Language     Intents  \n",
       "0                                             Hi there!       en    Greeting  \n",
       "1               Vanakkam! Ungalukku epdi help panradhu?       ta    Greeting  \n",
       "2              Namaskaram! Meeeku ela sahayam cheyyali?       te    Greeting  \n",
       "3                                       Im doing well!       en  Well-being  \n",
       "4                                   Naan nalla irukken!       ta  Well-being  \n",
       "...                                                 ...      ...         ...  \n",
       "1504    Aaraaychi seyyunga, kelvi kettunga, kathukunga!       ta  Motivation  \n",
       "1505       Aalochinchandi, prasnalu adugandi, chudandi!       te  Motivation  \n",
       "1506              Prioritize and set a simple schedule.       en         Tip  \n",
       "1507  Mukkiyamana vishayangalai first panna, schedul...       ta         Tip  \n",
       "1508  Important pani ki priority ichhi schedule foll...       te         Tip  \n",
       "\n",
       "[1509 rows x 4 columns]"
      ]
     },
     "execution_count": 3,
     "metadata": {},
     "output_type": "execute_result"
    }
   ],
   "source": [
    "df = pd.read_excel(r\"C:\\Users\\r.lavanya\\Desktop\\Intern MF\\CHABUU\\AKL MULTIDATA.xlsx\")\n",
    "df"
   ]
  },
  {
   "cell_type": "code",
   "execution_count": 4,
   "id": "c1c0302f-db5d-40ec-b5fa-0666718867b5",
   "metadata": {},
   "outputs": [
    {
     "name": "stdout",
     "output_type": "stream",
     "text": [
      "Intents\n",
      "Info              210\n",
      "Response          168\n",
      "Conversational    124\n",
      "Tip                99\n",
      "Feeling            88\n",
      "Intro              81\n",
      "Humor              81\n",
      "Motivation         81\n",
      "Suggest            63\n",
      "Fact               54\n",
      "Recommend          47\n",
      "Reminder           42\n",
      "Acknowledge        42\n",
      "Greeting           36\n",
      "Story              35\n",
      "Assist             35\n",
      "Farewell           34\n",
      "Spell              29\n",
      "Appreciation       28\n",
      "Well-being         27\n",
      "Confirmation       24\n",
      "Help               23\n",
      "Define             21\n",
      "Time               20\n",
      "Action             14\n",
      "Fun                 3\n",
      "Name: count, dtype: int64\n"
     ]
    }
   ],
   "source": [
    "df.dropna(inplace=True)\n",
    "df.drop_duplicates(inplace=True)\n",
    "\n",
    "\n",
    "print(df['Intents'].value_counts())"
   ]
  },
  {
   "cell_type": "code",
   "execution_count": 5,
   "id": "5cab600b-04c2-4a3a-a62a-177bba139df0",
   "metadata": {},
   "outputs": [],
   "source": [
    "import re\n",
    "\n",
    "def clean_text(text):\n",
    "    text = str(text).lower()\n",
    "    text = re.sub(r'[^\\w\\s]', '', text)  \n",
    "    text = re.sub(r'\\d+', '', text)      \n",
    "    return text.strip()\n",
    "\n",
    "df['User Input'] = df['User Input'].apply(clean_text)\n",
    "df['Bot Response'] = df['Bot Response'].astype(str).str.strip()"
   ]
  },
  {
   "cell_type": "code",
   "execution_count": 6,
   "id": "3945e3ae-c03b-41b9-a337-ec29775afbf6",
   "metadata": {},
   "outputs": [
    {
     "name": "stdout",
     "output_type": "stream",
     "text": [
      "{'Acknowledge': 0, 'Action': 1, 'Appreciation': 2, 'Assist': 3, 'Confirmation': 4, 'Conversational': 5, 'Define': 6, 'Fact': 7, 'Farewell': 8, 'Feeling': 9, 'Fun': 10, 'Greeting': 11, 'Help': 12, 'Humor': 13, 'Info': 14, 'Intro': 15, 'Motivation': 16, 'Recommend': 17, 'Reminder': 18, 'Response': 19, 'Spell': 20, 'Story': 21, 'Suggest': 22, 'Time': 23, 'Tip': 24, 'Well-being': 25}\n"
     ]
    }
   ],
   "source": [
    "from sklearn.preprocessing import LabelEncoder\n",
    "\n",
    "le = LabelEncoder()\n",
    "df['Intent Encoded'] = le.fit_transform(df['Intents'])\n",
    "\n",
    "intent_mapping = dict(zip(le.classes_, le.transform(le.classes_)))\n",
    "print(intent_mapping)"
   ]
  },
  {
   "cell_type": "code",
   "execution_count": 7,
   "id": "4cfba299-8674-4026-bc91-e301d50a826e",
   "metadata": {},
   "outputs": [],
   "source": [
    "from sklearn.feature_extraction.text import TfidfVectorizer\n",
    "\n",
    "vectorizer = TfidfVectorizer(analyzer='char', ngram_range=(2,5), max_features=4000)\n",
    "X = vectorizer.fit_transform(df['User Input'])\n",
    "y = df['Intent Encoded']\n"
   ]
  },
  {
   "cell_type": "code",
   "execution_count": 8,
   "id": "aa466859-b251-49bf-806a-9d487e1fa0d2",
   "metadata": {},
   "outputs": [
    {
     "name": "stdout",
     "output_type": "stream",
     "text": [
      "Before SMOTE: Counter({14: 210, 19: 168, 5: 124, 24: 99, 9: 88, 13: 81, 16: 81, 15: 81, 22: 63, 7: 54, 17: 47, 18: 42, 0: 42, 11: 36, 3: 35, 21: 35, 8: 34, 20: 29, 2: 28, 25: 27, 4: 24, 12: 23, 6: 21, 23: 20, 1: 14, 10: 3})\n",
      "After SMOTE: Counter({11: 210, 25: 210, 13: 210, 23: 210, 2: 210, 8: 210, 18: 210, 14: 210, 4: 210, 9: 210, 3: 210, 16: 210, 5: 210, 21: 210, 15: 210, 20: 210, 0: 210, 17: 210, 1: 210, 12: 210, 24: 210, 19: 210, 22: 210, 7: 210, 6: 210, 10: 210})\n"
     ]
    }
   ],
   "source": [
    "from imblearn.over_sampling import SMOTE\n",
    "from collections import Counter\n",
    "\n",
    "print(\"Before SMOTE:\", Counter(y))\n",
    "\n",
    "sm = SMOTE(random_state=42, k_neighbors=1)\n",
    "X_resampled, y_resampled = sm.fit_resample(X, y)\n",
    "\n",
    "print(\"After SMOTE:\", Counter(y_resampled))"
   ]
  },
  {
   "cell_type": "code",
   "execution_count": 9,
   "id": "daeb928b-6074-4183-9c73-2c8c17e2450c",
   "metadata": {},
   "outputs": [],
   "source": [
    "from sklearn.model_selection import train_test_split\n",
    "\n",
    "X_train, X_test, y_train, y_test = train_test_split(X_resampled, y_resampled, test_size=0.2, random_state=42, stratify=y_resampled)"
   ]
  },
  {
   "cell_type": "code",
   "execution_count": 10,
   "id": "cf2b73a7-67ea-4d49-aa7c-4e1534a30653",
   "metadata": {},
   "outputs": [
    {
     "name": "stdout",
     "output_type": "stream",
     "text": [
      "Logistic Accuracy: 0.8543956043956044\n",
      "SVM Accuracy: 0.8937728937728938\n",
      "Random Forest Accuracy: 0.9010989010989011\n"
     ]
    }
   ],
   "source": [
    "from sklearn.linear_model import LogisticRegression\n",
    "from sklearn.svm import SVC\n",
    "from sklearn.ensemble import RandomForestClassifier\n",
    "from sklearn.metrics import accuracy_score\n",
    "\n",
    "# Logistic\n",
    "lr = LogisticRegression(max_iter=300)\n",
    "lr.fit(X_train, y_train)\n",
    "lr_pred = lr.predict(X_test)\n",
    "print(\"Logistic Accuracy:\", accuracy_score(y_test, lr_pred))\n",
    "\n",
    "# SVM\n",
    "svm = SVC(kernel='linear')\n",
    "svm.fit(X_train, y_train)\n",
    "svm_pred = svm.predict(X_test)\n",
    "print(\"SVM Accuracy:\", accuracy_score(y_test, svm_pred))\n",
    "\n",
    "# Random Forest\n",
    "rf = RandomForestClassifier()\n",
    "rf.fit(X_train, y_train)\n",
    "rf_pred = rf.predict(X_test)\n",
    "print(\"Random Forest Accuracy:\", accuracy_score(y_test, rf_pred))\n"
   ]
  },
  {
   "cell_type": "code",
   "execution_count": 11,
   "id": "473fdd5e-1121-4ed5-b6f4-fda25b666617",
   "metadata": {},
   "outputs": [
    {
     "name": "stdout",
     "output_type": "stream",
     "text": [
      "\n",
      "Classification Report:\n",
      "                 precision    recall  f1-score   support\n",
      "\n",
      "   Acknowledge       0.89      1.00      0.94        42\n",
      "        Action       1.00      1.00      1.00        42\n",
      "  Appreciation       0.93      1.00      0.97        42\n",
      "        Assist       0.83      0.90      0.86        42\n",
      "  Confirmation       0.86      0.88      0.87        42\n",
      "Conversational       0.68      0.64      0.66        42\n",
      "        Define       0.98      0.98      0.98        42\n",
      "          Fact       0.85      0.81      0.83        42\n",
      "      Farewell       1.00      1.00      1.00        42\n",
      "       Feeling       0.85      0.83      0.84        42\n",
      "           Fun       1.00      1.00      1.00        42\n",
      "      Greeting       0.91      0.98      0.94        42\n",
      "          Help       0.97      0.90      0.94        42\n",
      "         Humor       0.93      0.88      0.90        42\n",
      "          Info       0.55      0.57      0.56        42\n",
      "         Intro       0.88      0.88      0.88        42\n",
      "    Motivation       0.95      0.88      0.91        42\n",
      "     Recommend       0.93      0.93      0.93        42\n",
      "      Reminder       1.00      0.98      0.99        42\n",
      "      Response       0.52      0.40      0.45        42\n",
      "         Spell       1.00      0.95      0.98        42\n",
      "         Story       0.95      1.00      0.98        42\n",
      "       Suggest       0.91      0.93      0.92        42\n",
      "          Time       0.98      1.00      0.99        42\n",
      "           Tip       0.89      0.95      0.92        42\n",
      "    Well-being       0.95      0.95      0.95        42\n",
      "\n",
      "      accuracy                           0.89      1092\n",
      "     macro avg       0.89      0.89      0.89      1092\n",
      "  weighted avg       0.89      0.89      0.89      1092\n",
      "\n"
     ]
    }
   ],
   "source": [
    "from sklearn.metrics import classification_report\n",
    "\n",
    "print(\"\\nClassification Report:\\n\", classification_report(y_test, svm_pred, target_names=le.classes_))"
   ]
  },
  {
   "cell_type": "code",
   "execution_count": 12,
   "id": "23fd814d-ac47-4555-a9e8-0b22ddc8c2b0",
   "metadata": {},
   "outputs": [],
   "source": [
    "model = svm"
   ]
  },
  {
   "cell_type": "code",
   "execution_count": 13,
   "id": "ca8a8751-0663-49d6-96f5-da51f4c7e0d2",
   "metadata": {},
   "outputs": [
    {
     "name": "stdout",
     "output_type": "stream",
     "text": [
      "🤖 ChatBot is ready! Type 'exit' to stop.\n",
      "\n"
     ]
    },
    {
     "name": "stdin",
     "output_type": "stream",
     "text": [
      "You:  Hi\n"
     ]
    },
    {
     "name": "stdout",
     "output_type": "stream",
     "text": [
      "Bot: 🤖 Hmm, can you tell me a bit more?\n"
     ]
    },
    {
     "name": "stdin",
     "output_type": "stream",
     "text": [
      "You:  vanakam\n"
     ]
    },
    {
     "name": "stdout",
     "output_type": "stream",
     "text": [
      "Bot: Hi!\n"
     ]
    },
    {
     "name": "stdin",
     "output_type": "stream",
     "text": [
      "You:  exit\n"
     ]
    },
    {
     "name": "stdout",
     "output_type": "stream",
     "text": [
      "Bot: Bye! 👋\n"
     ]
    }
   ],
   "source": [
    "import random\n",
    "\n",
    "def clean_text(text):\n",
    "    text = str(text).lower()\n",
    "    text = re.sub(r'[^\\w\\s]', '', text)\n",
    "    text = re.sub(r'\\d+', '', text)\n",
    "    return text.strip()\n",
    "\n",
    "def detect_language(user_input):\n",
    "    text = user_input.lower()\n",
    "    if any(word in text for word in ['vanakkam', 'epdi', 'sapita', 'enna', 'irukeenga', 'eruka', 'unga', 'naan']):\n",
    "        return 'ta'\n",
    "    elif any(word in text for word in ['namaskaram', 'meeru', 'cheppandi', 'nuvvu', 'samsarikum', 'meeeku']):\n",
    "        return 'te'\n",
    "    else:\n",
    "        return 'en'\n",
    "\n",
    "def is_math_expression(text):\n",
    "    return bool(re.match(r'^[\\d\\s\\+\\-\\*/\\.\\(\\)]+$', text.strip()))\n",
    "\n",
    "def rule_based_response(text):\n",
    "    text = text.lower()\n",
    "    if \"quote\" in text:\n",
    "        return \"🌟 Believe in yourself. Every expert was once a beginner.\"\n",
    "    elif \"who\" in text:\n",
    "        return \"🤖 I'm your friendly chatbot assistant!\"\n",
    "    elif \"story\" in text:\n",
    "        return \"📖 Once upon a time, a student built the smartest bot with my help!\"\n",
    "    return None\n",
    "\n",
    "def get_response(user_input):\n",
    "    cleaned = clean_text(user_input)\n",
    "\n",
    "\n",
    "    if len(cleaned.split()) < 2 and len(cleaned) < 4:\n",
    "        return \"🤖 Hmm, can you tell me a bit more?\"\n",
    "\n",
    "    if is_math_expression(user_input):\n",
    "        try:\n",
    "            result = eval(user_input)\n",
    "            return f\"🧮 The answer is {result}\"\n",
    "        except:\n",
    "            return \"❌ Sorry, I couldn't calculate that.\"\n",
    "\n",
    "    rule = rule_based_response(user_input)\n",
    "    if rule:\n",
    "        return rule\n",
    "\n",
    "    lang = detect_language(user_input)\n",
    "\n",
    "    vector = vectorizer.transform([cleaned])\n",
    "    pred = model.predict(vector)[0]\n",
    "    intent = le.inverse_transform([pred])[0]\n",
    "    \n",
    "    responses = df[(df['Intents'] == intent) & (df['Language'] == lang)]['Bot Response'].tolist()\n",
    "\n",
    "    if responses:\n",
    "        return random.choice(responses)\n",
    "    else:\n",
    "        return f\"🤖 Sorry, I couldn’t find a reply in {lang.upper()}.\"\n",
    "\n",
    "print(\"🤖 ChatBot is ready! Type 'exit' to stop.\\n\")\n",
    "\n",
    "while True:\n",
    "    inp = input(\"You: \")\n",
    "    if inp.lower() == \"exit\":\n",
    "        print(\"Bot: Bye! 👋\")\n",
    "        break\n",
    "    print(\"Bot:\", get_response(inp))"
   ]
  },
  {
   "cell_type": "code",
   "execution_count": 107,
   "id": "ab2bddda-7a6b-45c8-ba33-5035f44e4377",
   "metadata": {},
   "outputs": [
    {
     "name": "stdout",
     "output_type": "stream",
     "text": [
      "downloaded\n"
     ]
    }
   ],
   "source": [
    "import joblib\n",
    "\n",
    "joblib.dump(model, 'chatbot_model.pkl')\n",
    "joblib.dump(vectorizer, 'chatbot_vectorizer.pkl')\n",
    "joblib.dump(le, 'chatbot_labelencoder.pkl')\n",
    "\n",
    "print(\"downloaded\")"
   ]
  },
  {
   "cell_type": "code",
   "execution_count": 14,
   "id": "61d2e66c-a0f7-4007-aa68-96a4734acd77",
   "metadata": {},
   "outputs": [],
   "source": [
    "import pickle\n",
    "\n",
    "# Save model\n",
    "with open(\"aklchatbot_model.pkl\", \"wb\") as f:\n",
    "    pickle.dump(model, f)\n",
    "\n",
    "# Save vectorizer\n",
    "with open(\"aklchatbot_vectorizer.pkl\", \"wb\") as f:\n",
    "    pickle.dump(vectorizer, f)\n",
    "\n",
    "# Save label encoder (if used)\n",
    "with open(\"aklchatbot_labelencoder.pkl\", \"wb\") as f:\n",
    "    pickle.dump(le, f)\n"
   ]
  },
  {
   "cell_type": "code",
   "execution_count": null,
   "id": "578b963b-73cd-4466-8f74-36dc4c22e899",
   "metadata": {},
   "outputs": [],
   "source": []
  }
 ],
 "metadata": {
  "kernelspec": {
   "display_name": "Python 3 (ipykernel)",
   "language": "python",
   "name": "python3"
  },
  "language_info": {
   "codemirror_mode": {
    "name": "ipython",
    "version": 3
   },
   "file_extension": ".py",
   "mimetype": "text/x-python",
   "name": "python",
   "nbconvert_exporter": "python",
   "pygments_lexer": "ipython3",
   "version": "3.11.0"
  }
 },
 "nbformat": 4,
 "nbformat_minor": 5
}
